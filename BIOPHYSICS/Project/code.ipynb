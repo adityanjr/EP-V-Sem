{
  "nbformat": 4,
  "nbformat_minor": 0,
  "metadata": {
    "colab": {
      "name": "DNA_SEQ.ipynb",
      "provenance": []
    },
    "kernelspec": {
      "display_name": "Python 3",
      "name": "python3"
    },
    "language_info": {
      "name": "python"
    }
  },
  "cells": [
    {
      "cell_type": "markdown",
      "metadata": {
        "id": "a6eO4EA9GXzr"
      },
      "source": [
        "Name: Aditya Singh(2K19/EP/005) & Arkajyoti Chakraborty(2K19/EP/022)\n",
        "\n",
        "College: Delhi Technological University\n",
        "\n",
        "Subject: Biophysics"
      ]
    },
    {
      "cell_type": "code",
      "metadata": {
        "id": "Iiy3NThHtuY1"
      },
      "source": [
        "import pandas as pd\n",
        "import numpy as np\n",
        "import matplotlib.pyplot as plt"
      ],
      "execution_count": null,
      "outputs": []
    },
    {
      "cell_type": "markdown",
      "metadata": {
        "id": "Ys8smUiq3Mov"
      },
      "source": [
        "Collecting Human Data"
      ]
    },
    {
      "cell_type": "code",
      "metadata": {
        "colab": {
          "base_uri": "https://localhost:8080/",
          "height": 417
        },
        "id": "StMyUFrx0E2f",
        "outputId": "181d5e48-0bdb-4cc6-9a2e-52bb0ba8b2a4"
      },
      "source": [
        "human_dna = pd.read_table('/content/drive/MyDrive/human.txt')\n",
        "human_dna"
      ],
      "execution_count": null,
      "outputs": [
        {
          "output_type": "execute_result",
          "data": {
            "text/html": [
              "<div>\n",
              "<style scoped>\n",
              "    .dataframe tbody tr th:only-of-type {\n",
              "        vertical-align: middle;\n",
              "    }\n",
              "\n",
              "    .dataframe tbody tr th {\n",
              "        vertical-align: top;\n",
              "    }\n",
              "\n",
              "    .dataframe thead th {\n",
              "        text-align: right;\n",
              "    }\n",
              "</style>\n",
              "<table border=\"1\" class=\"dataframe\">\n",
              "  <thead>\n",
              "    <tr style=\"text-align: right;\">\n",
              "      <th></th>\n",
              "      <th>sequence</th>\n",
              "      <th>class</th>\n",
              "    </tr>\n",
              "  </thead>\n",
              "  <tbody>\n",
              "    <tr>\n",
              "      <th>0</th>\n",
              "      <td>ATGCCCCAACTAAATACTACCGTATGGCCCACCATAATTACCCCCA...</td>\n",
              "      <td>4</td>\n",
              "    </tr>\n",
              "    <tr>\n",
              "      <th>1</th>\n",
              "      <td>ATGAACGAAAATCTGTTCGCTTCATTCATTGCCCCCACAATCCTAG...</td>\n",
              "      <td>4</td>\n",
              "    </tr>\n",
              "    <tr>\n",
              "      <th>2</th>\n",
              "      <td>ATGTGTGGCATTTGGGCGCTGTTTGGCAGTGATGATTGCCTTTCTG...</td>\n",
              "      <td>3</td>\n",
              "    </tr>\n",
              "    <tr>\n",
              "      <th>3</th>\n",
              "      <td>ATGTGTGGCATTTGGGCGCTGTTTGGCAGTGATGATTGCCTTTCTG...</td>\n",
              "      <td>3</td>\n",
              "    </tr>\n",
              "    <tr>\n",
              "      <th>4</th>\n",
              "      <td>ATGCAACAGCATTTTGAATTTGAATACCAGACCAAAGTGGATGGTG...</td>\n",
              "      <td>3</td>\n",
              "    </tr>\n",
              "    <tr>\n",
              "      <th>...</th>\n",
              "      <td>...</td>\n",
              "      <td>...</td>\n",
              "    </tr>\n",
              "    <tr>\n",
              "      <th>4375</th>\n",
              "      <td>ATGGAAGATTTGGAGGAAACATTATTTGAAGAATTTGAAAACTATT...</td>\n",
              "      <td>0</td>\n",
              "    </tr>\n",
              "    <tr>\n",
              "      <th>4376</th>\n",
              "      <td>ATGCAGTCCTTTCGGGAGCAAAGCAGTTACCACGGAAACCAGCAAA...</td>\n",
              "      <td>6</td>\n",
              "    </tr>\n",
              "    <tr>\n",
              "      <th>4377</th>\n",
              "      <td>ATGCAGTCCTTTCGGGAGCAAAGCAGTTACCACGGAAACCAGCAAA...</td>\n",
              "      <td>6</td>\n",
              "    </tr>\n",
              "    <tr>\n",
              "      <th>4378</th>\n",
              "      <td>ATGGGGCACCTGGTTTGCTGTCTGTGTGGCAAGTGGGCCAGTTACC...</td>\n",
              "      <td>6</td>\n",
              "    </tr>\n",
              "    <tr>\n",
              "      <th>4379</th>\n",
              "      <td>ATGCAGTCCTTTCGGGAGCAAAGCAGTTACCACGGAAACCAGCAAA...</td>\n",
              "      <td>6</td>\n",
              "    </tr>\n",
              "  </tbody>\n",
              "</table>\n",
              "<p>4380 rows × 2 columns</p>\n",
              "</div>"
            ],
            "text/plain": [
              "                                               sequence  class\n",
              "0     ATGCCCCAACTAAATACTACCGTATGGCCCACCATAATTACCCCCA...      4\n",
              "1     ATGAACGAAAATCTGTTCGCTTCATTCATTGCCCCCACAATCCTAG...      4\n",
              "2     ATGTGTGGCATTTGGGCGCTGTTTGGCAGTGATGATTGCCTTTCTG...      3\n",
              "3     ATGTGTGGCATTTGGGCGCTGTTTGGCAGTGATGATTGCCTTTCTG...      3\n",
              "4     ATGCAACAGCATTTTGAATTTGAATACCAGACCAAAGTGGATGGTG...      3\n",
              "...                                                 ...    ...\n",
              "4375  ATGGAAGATTTGGAGGAAACATTATTTGAAGAATTTGAAAACTATT...      0\n",
              "4376  ATGCAGTCCTTTCGGGAGCAAAGCAGTTACCACGGAAACCAGCAAA...      6\n",
              "4377  ATGCAGTCCTTTCGGGAGCAAAGCAGTTACCACGGAAACCAGCAAA...      6\n",
              "4378  ATGGGGCACCTGGTTTGCTGTCTGTGTGGCAAGTGGGCCAGTTACC...      6\n",
              "4379  ATGCAGTCCTTTCGGGAGCAAAGCAGTTACCACGGAAACCAGCAAA...      6\n",
              "\n",
              "[4380 rows x 2 columns]"
            ]
          },
          "metadata": {},
          "execution_count": 2
        }
      ]
    },
    {
      "cell_type": "code",
      "metadata": {
        "colab": {
          "base_uri": "https://localhost:8080/"
        },
        "id": "c9hgsuGS4j1m",
        "outputId": "c6a2fd39-55ce-499a-b6d1-144b6495ad1a"
      },
      "source": [
        "human_dna.columns"
      ],
      "execution_count": null,
      "outputs": [
        {
          "output_type": "execute_result",
          "data": {
            "text/plain": [
              "Index(['sequence', 'class'], dtype='object')"
            ]
          },
          "metadata": {},
          "execution_count": 3
        }
      ]
    },
    {
      "cell_type": "markdown",
      "metadata": {
        "id": "km9gY4E93OzV"
      },
      "source": [
        "Collecting Chimpanzee Data "
      ]
    },
    {
      "cell_type": "code",
      "metadata": {
        "colab": {
          "base_uri": "https://localhost:8080/",
          "height": 417
        },
        "id": "rqQwzroc0gB4",
        "outputId": "bf69b196-4a18-4a8a-db5f-cd03289d2415"
      },
      "source": [
        "Chimpanzee_dna = pd.read_table('/content/drive/MyDrive/chimpanzee.txt')\n",
        "Chimpanzee_dna"
      ],
      "execution_count": null,
      "outputs": [
        {
          "output_type": "execute_result",
          "data": {
            "text/html": [
              "<div>\n",
              "<style scoped>\n",
              "    .dataframe tbody tr th:only-of-type {\n",
              "        vertical-align: middle;\n",
              "    }\n",
              "\n",
              "    .dataframe tbody tr th {\n",
              "        vertical-align: top;\n",
              "    }\n",
              "\n",
              "    .dataframe thead th {\n",
              "        text-align: right;\n",
              "    }\n",
              "</style>\n",
              "<table border=\"1\" class=\"dataframe\">\n",
              "  <thead>\n",
              "    <tr style=\"text-align: right;\">\n",
              "      <th></th>\n",
              "      <th>sequence</th>\n",
              "      <th>class</th>\n",
              "    </tr>\n",
              "  </thead>\n",
              "  <tbody>\n",
              "    <tr>\n",
              "      <th>0</th>\n",
              "      <td>ATGCCCCAACTAAATACCGCCGTATGACCCACCATAATTACCCCCA...</td>\n",
              "      <td>4</td>\n",
              "    </tr>\n",
              "    <tr>\n",
              "      <th>1</th>\n",
              "      <td>ATGAACGAAAATCTATTCGCTTCATTCGCTGCCCCCACAATCCTAG...</td>\n",
              "      <td>4</td>\n",
              "    </tr>\n",
              "    <tr>\n",
              "      <th>2</th>\n",
              "      <td>ATGGCCTCGCGCTGGTGGCGGTGGCGACGCGGCTGCTCCTGGAGGC...</td>\n",
              "      <td>4</td>\n",
              "    </tr>\n",
              "    <tr>\n",
              "      <th>3</th>\n",
              "      <td>ATGGCCTCGCGCTGGTGGCGGTGGCGACGCGGCTGCTCCTGGAGGC...</td>\n",
              "      <td>4</td>\n",
              "    </tr>\n",
              "    <tr>\n",
              "      <th>4</th>\n",
              "      <td>ATGGGCAGCGCCAGCCCGGGTCTGAGCAGCGTGTCCCCCAGCCACC...</td>\n",
              "      <td>6</td>\n",
              "    </tr>\n",
              "    <tr>\n",
              "      <th>...</th>\n",
              "      <td>...</td>\n",
              "      <td>...</td>\n",
              "    </tr>\n",
              "    <tr>\n",
              "      <th>1677</th>\n",
              "      <td>ATGCTGAGCGGAGCGGCTGGGGCTGCGCGGCGTGGCGGAGCAGCGC...</td>\n",
              "      <td>5</td>\n",
              "    </tr>\n",
              "    <tr>\n",
              "      <th>1678</th>\n",
              "      <td>ATGCTGAGCGGAGCGGCTGGGGCTGCGCGGCGTGGCGGAGCAGCGC...</td>\n",
              "      <td>5</td>\n",
              "    </tr>\n",
              "    <tr>\n",
              "      <th>1679</th>\n",
              "      <td>ATGAAGCGACCCAAGGAGCCGAGCGGCTCCGACGGGGAGTCCGACG...</td>\n",
              "      <td>6</td>\n",
              "    </tr>\n",
              "    <tr>\n",
              "      <th>1680</th>\n",
              "      <td>ATGACTGGAACCCCAAAGACTCAAGAAGGAGCTAAAGATCTTGAAG...</td>\n",
              "      <td>3</td>\n",
              "    </tr>\n",
              "    <tr>\n",
              "      <th>1681</th>\n",
              "      <td>ATGTTGCCCAGCTGTGGCAAGATCTTGACTGGGTGTAAGAATATGC...</td>\n",
              "      <td>3</td>\n",
              "    </tr>\n",
              "  </tbody>\n",
              "</table>\n",
              "<p>1682 rows × 2 columns</p>\n",
              "</div>"
            ],
            "text/plain": [
              "                                               sequence  class\n",
              "0     ATGCCCCAACTAAATACCGCCGTATGACCCACCATAATTACCCCCA...      4\n",
              "1     ATGAACGAAAATCTATTCGCTTCATTCGCTGCCCCCACAATCCTAG...      4\n",
              "2     ATGGCCTCGCGCTGGTGGCGGTGGCGACGCGGCTGCTCCTGGAGGC...      4\n",
              "3     ATGGCCTCGCGCTGGTGGCGGTGGCGACGCGGCTGCTCCTGGAGGC...      4\n",
              "4     ATGGGCAGCGCCAGCCCGGGTCTGAGCAGCGTGTCCCCCAGCCACC...      6\n",
              "...                                                 ...    ...\n",
              "1677  ATGCTGAGCGGAGCGGCTGGGGCTGCGCGGCGTGGCGGAGCAGCGC...      5\n",
              "1678  ATGCTGAGCGGAGCGGCTGGGGCTGCGCGGCGTGGCGGAGCAGCGC...      5\n",
              "1679  ATGAAGCGACCCAAGGAGCCGAGCGGCTCCGACGGGGAGTCCGACG...      6\n",
              "1680  ATGACTGGAACCCCAAAGACTCAAGAAGGAGCTAAAGATCTTGAAG...      3\n",
              "1681  ATGTTGCCCAGCTGTGGCAAGATCTTGACTGGGTGTAAGAATATGC...      3\n",
              "\n",
              "[1682 rows x 2 columns]"
            ]
          },
          "metadata": {},
          "execution_count": 4
        }
      ]
    },
    {
      "cell_type": "markdown",
      "metadata": {
        "id": "RqQD2NX83UWP"
      },
      "source": [
        "Collecting Dog data"
      ]
    },
    {
      "cell_type": "code",
      "metadata": {
        "colab": {
          "base_uri": "https://localhost:8080/",
          "height": 417
        },
        "id": "HOibhIy702O0",
        "outputId": "15d0f5c8-bac4-49cf-f479-317c195e675a"
      },
      "source": [
        "dog_dna = pd.read_table('/content/drive/MyDrive/dog.txt')\n",
        "dog_dna"
      ],
      "execution_count": null,
      "outputs": [
        {
          "output_type": "execute_result",
          "data": {
            "text/html": [
              "<div>\n",
              "<style scoped>\n",
              "    .dataframe tbody tr th:only-of-type {\n",
              "        vertical-align: middle;\n",
              "    }\n",
              "\n",
              "    .dataframe tbody tr th {\n",
              "        vertical-align: top;\n",
              "    }\n",
              "\n",
              "    .dataframe thead th {\n",
              "        text-align: right;\n",
              "    }\n",
              "</style>\n",
              "<table border=\"1\" class=\"dataframe\">\n",
              "  <thead>\n",
              "    <tr style=\"text-align: right;\">\n",
              "      <th></th>\n",
              "      <th>sequence</th>\n",
              "      <th>class</th>\n",
              "    </tr>\n",
              "  </thead>\n",
              "  <tbody>\n",
              "    <tr>\n",
              "      <th>0</th>\n",
              "      <td>ATGCCACAGCTAGATACATCCACCTGATTTATTATAATCTTTTCAA...</td>\n",
              "      <td>4</td>\n",
              "    </tr>\n",
              "    <tr>\n",
              "      <th>1</th>\n",
              "      <td>ATGAACGAAAATCTATTCGCTTCTTTCGCTGCCCCCTCAATAATAG...</td>\n",
              "      <td>4</td>\n",
              "    </tr>\n",
              "    <tr>\n",
              "      <th>2</th>\n",
              "      <td>ATGGAAACACCCTTCTACGGCGATGAGGCGCTGAGCGGCCTGGGCG...</td>\n",
              "      <td>6</td>\n",
              "    </tr>\n",
              "    <tr>\n",
              "      <th>3</th>\n",
              "      <td>ATGTGCACTAAAATGGAACAGCCCTTCTACCACGACGACTCATACG...</td>\n",
              "      <td>6</td>\n",
              "    </tr>\n",
              "    <tr>\n",
              "      <th>4</th>\n",
              "      <td>ATGAGCCGGCAGCTAAACAGAAGCCAGAACTGCTCCTTCAGTGACG...</td>\n",
              "      <td>0</td>\n",
              "    </tr>\n",
              "    <tr>\n",
              "      <th>...</th>\n",
              "      <td>...</td>\n",
              "      <td>...</td>\n",
              "    </tr>\n",
              "    <tr>\n",
              "      <th>815</th>\n",
              "      <td>ATGGTCGGTCCGGAGAAGGAGCAGAGCTGGATCCCTAAGATCTTCA...</td>\n",
              "      <td>5</td>\n",
              "    </tr>\n",
              "    <tr>\n",
              "      <th>816</th>\n",
              "      <td>ATGGCGGCGACGGTGGCTGCGGCGGCCGCCGACGCGGGGCCGGGGG...</td>\n",
              "      <td>6</td>\n",
              "    </tr>\n",
              "    <tr>\n",
              "      <th>817</th>\n",
              "      <td>ATGAGCTCGGCCGACAAGGCCCGGGTGGGGCCCGCGGCCGACGGGC...</td>\n",
              "      <td>6</td>\n",
              "    </tr>\n",
              "    <tr>\n",
              "      <th>818</th>\n",
              "      <td>GCCCCGAGGATGGGCAGGGTCCCGCTGGCCTGGTGCTTGGCGCTGT...</td>\n",
              "      <td>1</td>\n",
              "    </tr>\n",
              "    <tr>\n",
              "      <th>819</th>\n",
              "      <td>ATGGCCTGGGCTCTGAAGCTGCCCCTGGCCGACGAAGTGATTGAAT...</td>\n",
              "      <td>6</td>\n",
              "    </tr>\n",
              "  </tbody>\n",
              "</table>\n",
              "<p>820 rows × 2 columns</p>\n",
              "</div>"
            ],
            "text/plain": [
              "                                              sequence  class\n",
              "0    ATGCCACAGCTAGATACATCCACCTGATTTATTATAATCTTTTCAA...      4\n",
              "1    ATGAACGAAAATCTATTCGCTTCTTTCGCTGCCCCCTCAATAATAG...      4\n",
              "2    ATGGAAACACCCTTCTACGGCGATGAGGCGCTGAGCGGCCTGGGCG...      6\n",
              "3    ATGTGCACTAAAATGGAACAGCCCTTCTACCACGACGACTCATACG...      6\n",
              "4    ATGAGCCGGCAGCTAAACAGAAGCCAGAACTGCTCCTTCAGTGACG...      0\n",
              "..                                                 ...    ...\n",
              "815  ATGGTCGGTCCGGAGAAGGAGCAGAGCTGGATCCCTAAGATCTTCA...      5\n",
              "816  ATGGCGGCGACGGTGGCTGCGGCGGCCGCCGACGCGGGGCCGGGGG...      6\n",
              "817  ATGAGCTCGGCCGACAAGGCCCGGGTGGGGCCCGCGGCCGACGGGC...      6\n",
              "818  GCCCCGAGGATGGGCAGGGTCCCGCTGGCCTGGTGCTTGGCGCTGT...      1\n",
              "819  ATGGCCTGGGCTCTGAAGCTGCCCCTGGCCGACGAAGTGATTGAAT...      6\n",
              "\n",
              "[820 rows x 2 columns]"
            ]
          },
          "metadata": {},
          "execution_count": 5
        }
      ]
    },
    {
      "cell_type": "markdown",
      "metadata": {
        "id": "q9wXTN5m1ksn"
      },
      "source": [
        "Let's visualise the classes and data!"
      ]
    },
    {
      "cell_type": "code",
      "metadata": {
        "colab": {
          "base_uri": "https://localhost:8080/",
          "height": 295
        },
        "id": "15LbjrD609ts",
        "outputId": "26410386-6f98-4c7c-c33b-de3597b445e2"
      },
      "source": [
        "human_dna['class'].value_counts().sort_index().plot.bar()\n",
        "plt.title(\"Class distribution of Human DNA\")"
      ],
      "execution_count": null,
      "outputs": [
        {
          "output_type": "execute_result",
          "data": {
            "text/plain": [
              "Text(0.5, 1.0, 'Class distribution of Human DNA')"
            ]
          },
          "metadata": {},
          "execution_count": 6
        },
        {
          "output_type": "display_data",
          "data": {
            "image/png": "[encoded data removed]",
            "text/plain": [
              "<Figure size 432x288 with 1 Axes>"
            ]
          },
          "metadata": {
            "needs_background": "light"
          }
        }
      ]
    },
    {
      "cell_type": "code",
      "metadata": {
        "colab": {
          "base_uri": "https://localhost:8080/",
          "height": 295
        },
        "id": "IJ6AYhTU1o3X",
        "outputId": "420809b0-6f6e-4207-8df0-fedeeb7c6ddf"
      },
      "source": [
        "Chimpanzee_dna['class'].value_counts().sort_index().plot.bar()\n",
        "plt.title(\"Class distribution of Chimpanzee DNA\")"
      ],
      "execution_count": null,
      "outputs": [
        {
          "output_type": "execute_result",
          "data": {
            "text/plain": [
              "Text(0.5, 1.0, 'Class distribution of Chimpanzee DNA')"
            ]
          },
          "metadata": {},
          "execution_count": 7
        },
        {
          "output_type": "display_data",
          "data": {
            "image/png": "[encoded data removed]",
            "text/plain": [
              "<Figure size 432x288 with 1 Axes>"
            ]
          },
          "metadata": {
            "needs_background": "light"
          }
        }
      ]
    },
    {
      "cell_type": "code",
      "metadata": {
        "colab": {
          "base_uri": "https://localhost:8080/",
          "height": 295
        },
        "id": "ovMNkWFo1zLE",
        "outputId": "375de590-2ef1-42af-fa05-75f56e30957e"
      },
      "source": [
        "dog_dna['class'].value_counts().sort_index().plot.bar()\n",
        "plt.title(\"Class distribution of Dog DNA\")"
      ],
      "execution_count": null,
      "outputs": [
        {
          "output_type": "execute_result",
          "data": {
            "text/plain": [
              "Text(0.5, 1.0, 'Class distribution of Dog DNA')"
            ]
          },
          "metadata": {},
          "execution_count": 8
        },
        {
          "output_type": "display_data",
          "data": {
            "image/png": "[encoded data removed]",
            "text/plain": [
              "<Figure size 432x288 with 1 Axes>"
            ]
          },
          "metadata": {
            "needs_background": "light"
          }
        }
      ]
    },
    {
      "cell_type": "markdown",
      "metadata": {
        "id": "SmHVS1kZ7LiG"
      },
      "source": [
        "The classes for our classification"
      ]
    },
    {
      "cell_type": "markdown",
      "metadata": {
        "id": "ZyWilmFO7Ic6"
      },
      "source": [
        "![image.png](data:image/png;base64,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)"
      ]
    },
    {
      "cell_type": "code",
      "metadata": {
        "id": "buVwPAcM14o0"
      },
      "source": [
        "# Function to change the string into k-mers words..\n",
        "def Kmers_funct(seq, size=6):\n",
        "  return [seq[x:x+size].lower() for x in range(len(seq) - size + 1)]"
      ],
      "execution_count": null,
      "outputs": []
    },
    {
      "cell_type": "code",
      "metadata": {
        "id": "eDkMAh-I2lSt"
      },
      "source": [
        "human_dna['word'] = human_dna.apply(lambda x: Kmers_funct(x['sequence']), axis=1)\n",
        "human_dna = human_dna.drop('sequence', axis=1)"
      ],
      "execution_count": null,
      "outputs": []
    },
    {
      "cell_type": "code",
      "metadata": {
        "colab": {
          "base_uri": "https://localhost:8080/"
        },
        "id": "VRs44wT53wF1",
        "outputId": "944c810a-3c4d-4b63-f2ec-093e0aaf24a1"
      },
      "source": [
        "human_dna.columns # checkpoint of whether the k-mer function worked or not. "
      ],
      "execution_count": null,
      "outputs": [
        {
          "output_type": "execute_result",
          "data": {
            "text/plain": [
              "Index(['class', 'word'], dtype='object')"
            ]
          },
          "metadata": {},
          "execution_count": 13
        }
      ]
    },
    {
      "cell_type": "code",
      "metadata": {
        "colab": {
          "base_uri": "https://localhost:8080/"
        },
        "id": "-QeKZYWn4HO2",
        "outputId": "58165022-6962-4b74-db90-2ed3ce150428"
      },
      "source": [
        "human_dna['word']"
      ],
      "execution_count": null,
      "outputs": [
        {
          "output_type": "execute_result",
          "data": {
            "text/plain": [
              "0       [atgccc, tgcccc, gcccca, ccccaa, cccaac, ccaac...\n",
              "1       [atgaac, tgaacg, gaacga, aacgaa, acgaaa, cgaaa...\n",
              "2       [atgtgt, tgtgtg, gtgtgg, tgtggc, gtggca, tggca...\n",
              "3       [atgtgt, tgtgtg, gtgtgg, tgtggc, gtggca, tggca...\n",
              "4       [atgcaa, tgcaac, gcaaca, caacag, aacagc, acagc...\n",
              "                              ...                        \n",
              "4375    [atggaa, tggaag, ggaaga, gaagat, aagatt, agatt...\n",
              "4376    [atgcag, tgcagt, gcagtc, cagtcc, agtcct, gtcct...\n",
              "4377    [atgcag, tgcagt, gcagtc, cagtcc, agtcct, gtcct...\n",
              "4378    [atgggg, tggggc, ggggca, gggcac, ggcacc, gcacc...\n",
              "4379    [atgcag, tgcagt, gcagtc, cagtcc, agtcct, gtcct...\n",
              "Name: word, Length: 4380, dtype: object"
            ]
          },
          "metadata": {},
          "execution_count": 14
        }
      ]
    },
    {
      "cell_type": "code",
      "metadata": {
        "id": "1CDwvYmN2IAV"
      },
      "source": [
        "Chimpanzee_dna['words'] = Chimpanzee_dna.apply(lambda x: Kmers_funct(x['sequence']), axis=1)\n",
        "Chimpanzee_dna = Chimpanzee_dna.drop('sequence', axis=1)\n",
        "\n",
        "dog_dna['words'] = dog_dna.apply(lambda x: Kmers_funct(x['sequence']), axis=1)\n",
        "dog_dna = dog_dna.drop('sequence', axis=1)"
      ],
      "execution_count": null,
      "outputs": []
    },
    {
      "cell_type": "markdown",
      "metadata": {
        "id": "eB3ux-rU4R5P"
      },
      "source": [
        "Check Point of our data as we have prepared our data now it's time we go into modelling part!!"
      ]
    },
    {
      "cell_type": "code",
      "metadata": {
        "colab": {
          "base_uri": "https://localhost:8080/",
          "height": 417
        },
        "id": "sq9P5p448Luc",
        "outputId": "7eca62be-8d54-470c-80b0-6b5723ca7c8d"
      },
      "source": [
        "human_dna"
      ],
      "execution_count": null,
      "outputs": [
        {
          "output_type": "execute_result",
          "data": {
            "text/html": [
              "<div>\n",
              "<style scoped>\n",
              "    .dataframe tbody tr th:only-of-type {\n",
              "        vertical-align: middle;\n",
              "    }\n",
              "\n",
              "    .dataframe tbody tr th {\n",
              "        vertical-align: top;\n",
              "    }\n",
              "\n",
              "    .dataframe thead th {\n",
              "        text-align: right;\n",
              "    }\n",
              "</style>\n",
              "<table border=\"1\" class=\"dataframe\">\n",
              "  <thead>\n",
              "    <tr style=\"text-align: right;\">\n",
              "      <th></th>\n",
              "      <th>class</th>\n",
              "      <th>word</th>\n",
              "    </tr>\n",
              "  </thead>\n",
              "  <tbody>\n",
              "    <tr>\n",
              "      <th>0</th>\n",
              "      <td>4</td>\n",
              "      <td>[atgccc, tgcccc, gcccca, ccccaa, cccaac, ccaac...</td>\n",
              "    </tr>\n",
              "    <tr>\n",
              "      <th>1</th>\n",
              "      <td>4</td>\n",
              "      <td>[atgaac, tgaacg, gaacga, aacgaa, acgaaa, cgaaa...</td>\n",
              "    </tr>\n",
              "    <tr>\n",
              "      <th>2</th>\n",
              "      <td>3</td>\n",
              "      <td>[atgtgt, tgtgtg, gtgtgg, tgtggc, gtggca, tggca...</td>\n",
              "    </tr>\n",
              "    <tr>\n",
              "      <th>3</th>\n",
              "      <td>3</td>\n",
              "      <td>[atgtgt, tgtgtg, gtgtgg, tgtggc, gtggca, tggca...</td>\n",
              "    </tr>\n",
              "    <tr>\n",
              "      <th>4</th>\n",
              "      <td>3</td>\n",
              "      <td>[atgcaa, tgcaac, gcaaca, caacag, aacagc, acagc...</td>\n",
              "    </tr>\n",
              "    <tr>\n",
              "      <th>...</th>\n",
              "      <td>...</td>\n",
              "      <td>...</td>\n",
              "    </tr>\n",
              "    <tr>\n",
              "      <th>4375</th>\n",
              "      <td>0</td>\n",
              "      <td>[atggaa, tggaag, ggaaga, gaagat, aagatt, agatt...</td>\n",
              "    </tr>\n",
              "    <tr>\n",
              "      <th>4376</th>\n",
              "      <td>6</td>\n",
              "      <td>[atgcag, tgcagt, gcagtc, cagtcc, agtcct, gtcct...</td>\n",
              "    </tr>\n",
              "    <tr>\n",
              "      <th>4377</th>\n",
              "      <td>6</td>\n",
              "      <td>[atgcag, tgcagt, gcagtc, cagtcc, agtcct, gtcct...</td>\n",
              "    </tr>\n",
              "    <tr>\n",
              "      <th>4378</th>\n",
              "      <td>6</td>\n",
              "      <td>[atgggg, tggggc, ggggca, gggcac, ggcacc, gcacc...</td>\n",
              "    </tr>\n",
              "    <tr>\n",
              "      <th>4379</th>\n",
              "      <td>6</td>\n",
              "      <td>[atgcag, tgcagt, gcagtc, cagtcc, agtcct, gtcct...</td>\n",
              "    </tr>\n",
              "  </tbody>\n",
              "</table>\n",
              "<p>4380 rows × 2 columns</p>\n",
              "</div>"
            ],
            "text/plain": [
              "      class                                               word\n",
              "0         4  [atgccc, tgcccc, gcccca, ccccaa, cccaac, ccaac...\n",
              "1         4  [atgaac, tgaacg, gaacga, aacgaa, acgaaa, cgaaa...\n",
              "2         3  [atgtgt, tgtgtg, gtgtgg, tgtggc, gtggca, tggca...\n",
              "3         3  [atgtgt, tgtgtg, gtgtgg, tgtggc, gtggca, tggca...\n",
              "4         3  [atgcaa, tgcaac, gcaaca, caacag, aacagc, acagc...\n",
              "...     ...                                                ...\n",
              "4375      0  [atggaa, tggaag, ggaaga, gaagat, aagatt, agatt...\n",
              "4376      6  [atgcag, tgcagt, gcagtc, cagtcc, agtcct, gtcct...\n",
              "4377      6  [atgcag, tgcagt, gcagtc, cagtcc, agtcct, gtcct...\n",
              "4378      6  [atgggg, tggggc, ggggca, gggcac, ggcacc, gcacc...\n",
              "4379      6  [atgcag, tgcagt, gcagtc, cagtcc, agtcct, gtcct...\n",
              "\n",
              "[4380 rows x 2 columns]"
            ]
          },
          "metadata": {},
          "execution_count": 16
        }
      ]
    },
    {
      "cell_type": "code",
      "metadata": {
        "colab": {
          "base_uri": "https://localhost:8080/",
          "height": 417
        },
        "id": "yvJwk4ik8B6r",
        "outputId": "77361c9c-7f2b-41db-9851-e86cb8c2c8ed"
      },
      "source": [
        "dog_dna"
      ],
      "execution_count": null,
      "outputs": [
        {
          "output_type": "execute_result",
          "data": {
            "text/html": [
              "<div>\n",
              "<style scoped>\n",
              "    .dataframe tbody tr th:only-of-type {\n",
              "        vertical-align: middle;\n",
              "    }\n",
              "\n",
              "    .dataframe tbody tr th {\n",
              "        vertical-align: top;\n",
              "    }\n",
              "\n",
              "    .dataframe thead th {\n",
              "        text-align: right;\n",
              "    }\n",
              "</style>\n",
              "<table border=\"1\" class=\"dataframe\">\n",
              "  <thead>\n",
              "    <tr style=\"text-align: right;\">\n",
              "      <th></th>\n",
              "      <th>class</th>\n",
              "      <th>words</th>\n",
              "    </tr>\n",
              "  </thead>\n",
              "  <tbody>\n",
              "    <tr>\n",
              "      <th>0</th>\n",
              "      <td>4</td>\n",
              "      <td>[atgcca, tgccac, gccaca, ccacag, cacagc, acagc...</td>\n",
              "    </tr>\n",
              "    <tr>\n",
              "      <th>1</th>\n",
              "      <td>4</td>\n",
              "      <td>[atgaac, tgaacg, gaacga, aacgaa, acgaaa, cgaaa...</td>\n",
              "    </tr>\n",
              "    <tr>\n",
              "      <th>2</th>\n",
              "      <td>6</td>\n",
              "      <td>[atggaa, tggaaa, ggaaac, gaaaca, aaacac, aacac...</td>\n",
              "    </tr>\n",
              "    <tr>\n",
              "      <th>3</th>\n",
              "      <td>6</td>\n",
              "      <td>[atgtgc, tgtgca, gtgcac, tgcact, gcacta, cacta...</td>\n",
              "    </tr>\n",
              "    <tr>\n",
              "      <th>4</th>\n",
              "      <td>0</td>\n",
              "      <td>[atgagc, tgagcc, gagccg, agccgg, gccggc, ccggc...</td>\n",
              "    </tr>\n",
              "    <tr>\n",
              "      <th>...</th>\n",
              "      <td>...</td>\n",
              "      <td>...</td>\n",
              "    </tr>\n",
              "    <tr>\n",
              "      <th>815</th>\n",
              "      <td>5</td>\n",
              "      <td>[atggtc, tggtcg, ggtcgg, gtcggt, tcggtc, cggtc...</td>\n",
              "    </tr>\n",
              "    <tr>\n",
              "      <th>816</th>\n",
              "      <td>6</td>\n",
              "      <td>[atggcg, tggcgg, ggcggc, gcggcg, cggcga, ggcga...</td>\n",
              "    </tr>\n",
              "    <tr>\n",
              "      <th>817</th>\n",
              "      <td>6</td>\n",
              "      <td>[atgagc, tgagct, gagctc, agctcg, gctcgg, ctcgg...</td>\n",
              "    </tr>\n",
              "    <tr>\n",
              "      <th>818</th>\n",
              "      <td>1</td>\n",
              "      <td>[gccccg, ccccga, cccgag, ccgagg, cgagga, gagga...</td>\n",
              "    </tr>\n",
              "    <tr>\n",
              "      <th>819</th>\n",
              "      <td>6</td>\n",
              "      <td>[atggcc, tggcct, ggcctg, gcctgg, cctggg, ctggg...</td>\n",
              "    </tr>\n",
              "  </tbody>\n",
              "</table>\n",
              "<p>820 rows × 2 columns</p>\n",
              "</div>"
            ],
            "text/plain": [
              "     class                                              words\n",
              "0        4  [atgcca, tgccac, gccaca, ccacag, cacagc, acagc...\n",
              "1        4  [atgaac, tgaacg, gaacga, aacgaa, acgaaa, cgaaa...\n",
              "2        6  [atggaa, tggaaa, ggaaac, gaaaca, aaacac, aacac...\n",
              "3        6  [atgtgc, tgtgca, gtgcac, tgcact, gcacta, cacta...\n",
              "4        0  [atgagc, tgagcc, gagccg, agccgg, gccggc, ccggc...\n",
              "..     ...                                                ...\n",
              "815      5  [atggtc, tggtcg, ggtcgg, gtcggt, tcggtc, cggtc...\n",
              "816      6  [atggcg, tggcgg, ggcggc, gcggcg, cggcga, ggcga...\n",
              "817      6  [atgagc, tgagct, gagctc, agctcg, gctcgg, ctcgg...\n",
              "818      1  [gccccg, ccccga, cccgag, ccgagg, cgagga, gagga...\n",
              "819      6  [atggcc, tggcct, ggcctg, gcctgg, cctggg, ctggg...\n",
              "\n",
              "[820 rows x 2 columns]"
            ]
          },
          "metadata": {},
          "execution_count": 17
        }
      ]
    },
    {
      "cell_type": "code",
      "metadata": {
        "colab": {
          "base_uri": "https://localhost:8080/",
          "height": 417
        },
        "id": "OWc41t1v71Ae",
        "outputId": "7fe3e8a1-bb1a-4ebe-f9e1-024e9ed20972"
      },
      "source": [
        "Chimpanzee_dna"
      ],
      "execution_count": null,
      "outputs": [
        {
          "output_type": "execute_result",
          "data": {
            "text/html": [
              "<div>\n",
              "<style scoped>\n",
              "    .dataframe tbody tr th:only-of-type {\n",
              "        vertical-align: middle;\n",
              "    }\n",
              "\n",
              "    .dataframe tbody tr th {\n",
              "        vertical-align: top;\n",
              "    }\n",
              "\n",
              "    .dataframe thead th {\n",
              "        text-align: right;\n",
              "    }\n",
              "</style>\n",
              "<table border=\"1\" class=\"dataframe\">\n",
              "  <thead>\n",
              "    <tr style=\"text-align: right;\">\n",
              "      <th></th>\n",
              "      <th>class</th>\n",
              "      <th>words</th>\n",
              "    </tr>\n",
              "  </thead>\n",
              "  <tbody>\n",
              "    <tr>\n",
              "      <th>0</th>\n",
              "      <td>4</td>\n",
              "      <td>[atgccc, tgcccc, gcccca, ccccaa, cccaac, ccaac...</td>\n",
              "    </tr>\n",
              "    <tr>\n",
              "      <th>1</th>\n",
              "      <td>4</td>\n",
              "      <td>[atgaac, tgaacg, gaacga, aacgaa, acgaaa, cgaaa...</td>\n",
              "    </tr>\n",
              "    <tr>\n",
              "      <th>2</th>\n",
              "      <td>4</td>\n",
              "      <td>[atggcc, tggcct, ggcctc, gcctcg, cctcgc, ctcgc...</td>\n",
              "    </tr>\n",
              "    <tr>\n",
              "      <th>3</th>\n",
              "      <td>4</td>\n",
              "      <td>[atggcc, tggcct, ggcctc, gcctcg, cctcgc, ctcgc...</td>\n",
              "    </tr>\n",
              "    <tr>\n",
              "      <th>4</th>\n",
              "      <td>6</td>\n",
              "      <td>[atgggc, tgggca, gggcag, ggcagc, gcagcg, cagcg...</td>\n",
              "    </tr>\n",
              "    <tr>\n",
              "      <th>...</th>\n",
              "      <td>...</td>\n",
              "      <td>...</td>\n",
              "    </tr>\n",
              "    <tr>\n",
              "      <th>1677</th>\n",
              "      <td>5</td>\n",
              "      <td>[atgctg, tgctga, gctgag, ctgagc, tgagcg, gagcg...</td>\n",
              "    </tr>\n",
              "    <tr>\n",
              "      <th>1678</th>\n",
              "      <td>5</td>\n",
              "      <td>[atgctg, tgctga, gctgag, ctgagc, tgagcg, gagcg...</td>\n",
              "    </tr>\n",
              "    <tr>\n",
              "      <th>1679</th>\n",
              "      <td>6</td>\n",
              "      <td>[atgaag, tgaagc, gaagcg, aagcga, agcgac, gcgac...</td>\n",
              "    </tr>\n",
              "    <tr>\n",
              "      <th>1680</th>\n",
              "      <td>3</td>\n",
              "      <td>[atgact, tgactg, gactgg, actgga, ctggaa, tggaa...</td>\n",
              "    </tr>\n",
              "    <tr>\n",
              "      <th>1681</th>\n",
              "      <td>3</td>\n",
              "      <td>[atgttg, tgttgc, gttgcc, ttgccc, tgccca, gccca...</td>\n",
              "    </tr>\n",
              "  </tbody>\n",
              "</table>\n",
              "<p>1682 rows × 2 columns</p>\n",
              "</div>"
            ],
            "text/plain": [
              "      class                                              words\n",
              "0         4  [atgccc, tgcccc, gcccca, ccccaa, cccaac, ccaac...\n",
              "1         4  [atgaac, tgaacg, gaacga, aacgaa, acgaaa, cgaaa...\n",
              "2         4  [atggcc, tggcct, ggcctc, gcctcg, cctcgc, ctcgc...\n",
              "3         4  [atggcc, tggcct, ggcctc, gcctcg, cctcgc, ctcgc...\n",
              "4         6  [atgggc, tgggca, gggcag, ggcagc, gcagcg, cagcg...\n",
              "...     ...                                                ...\n",
              "1677      5  [atgctg, tgctga, gctgag, ctgagc, tgagcg, gagcg...\n",
              "1678      5  [atgctg, tgctga, gctgag, ctgagc, tgagcg, gagcg...\n",
              "1679      6  [atgaag, tgaagc, gaagcg, aagcga, agcgac, gcgac...\n",
              "1680      3  [atgact, tgactg, gactgg, actgga, ctggaa, tggaa...\n",
              "1681      3  [atgttg, tgttgc, gttgcc, ttgccc, tgccca, gccca...\n",
              "\n",
              "[1682 rows x 2 columns]"
            ]
          },
          "metadata": {},
          "execution_count": 18
        }
      ]
    },
    {
      "cell_type": "code",
      "metadata": {
        "colab": {
          "base_uri": "https://localhost:8080/"
        },
        "id": "d2GmNCrD8QBM",
        "outputId": "420ca398-25ea-4712-8832-9913c38ce426"
      },
      "source": [
        "human_texts = list(human_dna['word'])\n",
        "for item in range(len(human_texts)):\n",
        "    human_texts[item] = ' '.join(human_texts[item])\n",
        "#separate labels\n",
        "y_human = human_dna.iloc[:, 0].values\n",
        "\n",
        "print(y_human)"
      ],
      "execution_count": null,
      "outputs": [
        {
          "output_type": "stream",
          "name": "stdout",
          "text": [
            "[4 4 3 ... 6 6 6]\n"
          ]
        }
      ]
    },
    {
      "cell_type": "code",
      "metadata": {
        "id": "yACBpvUK8Xwk"
      },
      "source": [
        "chimp_texts = list(Chimpanzee_dna['words'])\n",
        "for item in range(len(chimp_texts)):\n",
        "    chimp_texts[item] = ' '.join(chimp_texts[item])\n",
        "#separate labels\n",
        "y_chim = Chimpanzee_dna.iloc[:, 0].values # y_chim for chimp_dna\n",
        "\n",
        "dog_texts = list(dog_dna['words'])\n",
        "for item in range(len(dog_texts)):\n",
        "    dog_texts[item] = ' '.join(dog_texts[item])\n",
        "#separate labels\n",
        "y_dog = dog_dna.iloc[:, 0].values"
      ],
      "execution_count": null,
      "outputs": []
    },
    {
      "cell_type": "code",
      "metadata": {
        "colab": {
          "base_uri": "https://localhost:8080/"
        },
        "id": "F66I3RXb8YaM",
        "outputId": "eb058da7-4212-44c1-b48e-c298f7647d0e"
      },
      "source": [
        "print(y_chim)"
      ],
      "execution_count": null,
      "outputs": [
        {
          "output_type": "stream",
          "name": "stdout",
          "text": [
            "[4 4 4 ... 6 3 3]\n"
          ]
        }
      ]
    },
    {
      "cell_type": "code",
      "metadata": {
        "colab": {
          "base_uri": "https://localhost:8080/"
        },
        "id": "TwPELgbh4wQJ",
        "outputId": "f01f5a0e-21cb-4739-e08e-efde4daa13c6"
      },
      "source": [
        "print(y_dog)"
      ],
      "execution_count": null,
      "outputs": [
        {
          "output_type": "stream",
          "name": "stdout",
          "text": [
            "[4 4 6 6 0 6 0 0 0 0 0 6 6 0 0 0 6 0 0 0 0 0 6 0 0 0 6 0 0 6 0 0 0 0 0 0 3\n",
            " 0 6 0 6 0 6 0 6 0 0 3 3 6 6 6 6 4 0 0 4 2 0 0 0 0 6 0 6 0 0 5 5 6 4 6 0 0\n",
            " 3 6 3 6 6 6 6 6 4 6 4 1 4 0 0 0 6 4 4 6 6 6 6 6 4 6 6 3 3 3 3 0 6 3 3 6 4\n",
            " 4 5 6 6 1 5 2 2 1 4 2 6 3 3 6 6 6 3 3 6 6 6 3 6 6 2 0 0 6 6 3 3 3 0 0 4 6\n",
            " 6 5 1 1 0 0 0 4 0 4 0 0 3 4 6 0 6 6 3 4 0 6 6 1 2 2 2 3 6 2 2 2 6 0 0 6 6\n",
            " 0 0 1 6 5 5 6 0 6 0 0 4 0 0 3 4 0 0 6 6 5 5 3 4 1 0 6 5 6 6 4 4 2 2 2 4 6\n",
            " 4 4 2 1 3 6 0 6 2 3 0 0 6 0 6 4 3 1 1 4 6 4 4 6 3 3 2 2 1 1 3 3 4 3 0 3 5\n",
            " 5 5 5 5 5 5 2 2 4 4 6 4 4 6 6 6 0 3 3 4 3 0 0 6 0 0 6 6 1 5 5 0 0 6 6 1 1\n",
            " 1 4 2 2 3 4 3 4 4 1 4 4 3 1 6 1 2 2 2 5 0 0 6 6 6 6 4 3 3 4 5 5 6 6 0 4 1\n",
            " 2 4 4 3 4 4 0 0 6 0 5 4 4 4 4 0 5 3 3 6 6 6 6 6 3 4 4 2 2 3 6 0 0 2 6 4 4\n",
            " 6 2 4 4 4 0 6 6 6 0 6 3 2 2 4 0 6 4 6 4 4 4 6 6 6 4 6 6 6 2 6 6 6 6 6 5 6\n",
            " 0 0 0 5 5 5 4 6 6 6 6 1 1 6 6 1 4 1 1 3 6 6 1 3 2 2 0 0 4 3 0 0 5 0 1 1 1\n",
            " 3 0 2 2 2 3 1 6 3 3 6 6 6 6 5 5 4 6 4 6 6 6 2 5 5 0 0 3 6 5 5 1 1 1 6 6 6\n",
            " 6 1 1 2 6 6 4 6 1 3 3 6 1 2 6 4 4 0 6 6 6 4 6 6 6 6 6 2 2 6 6 6 4 4 1 6 6\n",
            " 6 2 2 1 1 3 6 6 2 2 2 2 0 6 4 1 1 6 1 3 3 4 4 4 4 6 6 1 1 1 5 1 1 2 2 6 6\n",
            " 4 4 0 6 3 5 4 1 1 1 3 5 6 6 6 6 5 5 6 3 6 6 4 6 4 0 1 0 3 4 6 4 4 4 6 1 1\n",
            " 5 5 2 6 6 6 4 0 3 6 3 6 6 3 3 6 6 6 4 6 6 6 4 4 4 3 3 6 3 4 6 6 4 1 5 5 6\n",
            " 0 0 4 6 6 0 0 0 6 4 4 6 6 6 3 4 4 4 6 3 2 5 6 1 3 0 2 6 4 4 5 0 4 4 4 4 6\n",
            " 5 6 6 6 6 2 2 1 1 4 4 3 5 5 1 5 4 0 6 0 1 1 6 6 6 6 6 1 3 4 3 5 1 0 6 6 6\n",
            " 4 1 5 5 4 0 0 6 2 6 3 6 6 0 3 3 3 3 4 6 6 0 4 4 4 6 1 3 0 4 4 1 1 1 6 4 2\n",
            " 2 3 1 4 4 1 1 6 6 5 5 6 3 4 6 6 6 6 3 6 6 6 2 2 6 6 3 2 4 4 4 6 6 4 6 6 6\n",
            " 6 6 3 3 5 2 2 3 0 0 0 6 6 3 3 3 5 6 6 1 1 0 6 6 6 4 5 6 3 0 4 6 4 4 6 6 3\n",
            " 5 5 6 6 1 6]\n"
          ]
        }
      ]
    },
    {
      "cell_type": "markdown",
      "metadata": {
        "id": "EAo2RkFD8oRZ"
      },
      "source": [
        "Vectorization "
      ]
    },
    {
      "cell_type": "code",
      "metadata": {
        "id": "zhEbxyhq8joM"
      },
      "source": [
        "from sklearn.feature_extraction.text import CountVectorizer # using countvectorizer!! \n",
        "cv = CountVectorizer(ngram_range=(4,4)) #The n-gram size of 4 is previously determined by testing\n",
        "X = cv.fit_transform(human_texts)\n",
        "X_chimp = cv.transform(chimp_texts)\n",
        "X_dog = cv.transform(dog_texts)"
      ],
      "execution_count": null,
      "outputs": []
    },
    {
      "cell_type": "code",
      "metadata": {
        "colab": {
          "base_uri": "https://localhost:8080/"
        },
        "id": "WWYH0T8w8unc",
        "outputId": "f4c84f0a-dc00-4bbd-e1b9-7062eb446045"
      },
      "source": [
        "print(X.shape)\n",
        "print(X_chimp.shape)\n",
        "print(X_dog.shape)"
      ],
      "execution_count": null,
      "outputs": [
        {
          "output_type": "stream",
          "name": "stdout",
          "text": [
            "(4380, 232414)\n",
            "(1682, 232414)\n",
            "(820, 232414)\n"
          ]
        }
      ]
    },
    {
      "cell_type": "code",
      "metadata": {
        "colab": {
          "base_uri": "https://localhost:8080/"
        },
        "id": "LNwU3RE581rr",
        "outputId": "83009ce1-c767-4aa3-bd23-511e5dbc164e"
      },
      "source": [
        "from sklearn.model_selection import train_test_split as tts\n",
        "X_train, X_test, y_train, y_test = tts(X,y_human,test_size = 0.20,random_state=42)\n",
        "print(X_train.shape)\n",
        "print(X_test.shape)\n",
        "print(y_train.shape)\n",
        "print(y_test.shape)"
      ],
      "execution_count": null,
      "outputs": [
        {
          "output_type": "stream",
          "name": "stdout",
          "text": [
            "(3504, 232414)\n",
            "(876, 232414)\n",
            "(3504,)\n",
            "(876,)\n"
          ]
        }
      ]
    },
    {
      "cell_type": "code",
      "metadata": {
        "id": "zEA1XD2j-xlS"
      },
      "source": [
        "from sklearn.metrics import classification_report"
      ],
      "execution_count": null,
      "outputs": []
    },
    {
      "cell_type": "markdown",
      "metadata": {
        "id": "xupElPOg_RIO"
      },
      "source": [
        "Naive Bayes"
      ]
    },
    {
      "cell_type": "code",
      "metadata": {
        "colab": {
          "base_uri": "https://localhost:8080/"
        },
        "id": "TWWH2Uak9pt8",
        "outputId": "19bee4ce-9725-4843-de2b-3d502f517961"
      },
      "source": [
        "from sklearn.naive_bayes import MultinomialNB\n",
        "model = MultinomialNB()\n",
        "naive_bayes_model = model.fit(X_train,y_train)\n",
        "naive_bayes_model_predict = naive_bayes_model.predict(X_test)\n",
        "naive_bayes_report = classification_report(y_test,naive_bayes_model_predict)\n",
        "print(naive_bayes_report)"
      ],
      "execution_count": null,
      "outputs": [
        {
          "output_type": "stream",
          "name": "stdout",
          "text": [
            "              precision    recall  f1-score   support\n",
            "\n",
            "           0       1.00      0.96      0.98       102\n",
            "           1       1.00      0.98      0.99       106\n",
            "           2       1.00      1.00      1.00        78\n",
            "           3       0.99      0.99      0.99       125\n",
            "           4       0.97      0.98      0.98       149\n",
            "           5       0.94      1.00      0.97        51\n",
            "           6       0.98      0.98      0.98       265\n",
            "\n",
            "    accuracy                           0.98       876\n",
            "   macro avg       0.98      0.99      0.98       876\n",
            "weighted avg       0.98      0.98      0.98       876\n",
            "\n"
          ]
        }
      ]
    },
    {
      "cell_type": "code",
      "metadata": {
        "colab": {
          "base_uri": "https://localhost:8080/"
        },
        "id": "fVdd6qbM_A6i",
        "outputId": "255f2b9d-b3fe-4a03-9569-0fd243638dd7"
      },
      "source": [
        "from sklearn.tree import DecisionTreeClassifier\n",
        "dct = DecisionTreeClassifier(criterion='entropy', random_state=1)\n",
        "decision_tree_model = dct.fit(X_train,y_train)\n",
        "decision_tree_model_predict = decision_tree_model.predict(X_test)\n",
        "decision_tree_report = classification_report(y_test,decision_tree_model_predict)\n",
        "print(decision_tree_report)"
      ],
      "execution_count": null,
      "outputs": [
        {
          "output_type": "stream",
          "name": "stdout",
          "text": [
            "              precision    recall  f1-score   support\n",
            "\n",
            "           0       0.54      0.83      0.65       102\n",
            "           1       0.93      0.83      0.88       106\n",
            "           2       0.92      0.87      0.89        78\n",
            "           3       0.83      0.80      0.81       125\n",
            "           4       0.86      0.77      0.81       149\n",
            "           5       0.88      0.75      0.81        51\n",
            "           6       0.88      0.84      0.86       265\n",
            "\n",
            "    accuracy                           0.82       876\n",
            "   macro avg       0.83      0.81      0.82       876\n",
            "weighted avg       0.84      0.82      0.82       876\n",
            "\n"
          ]
        }
      ]
    },
    {
      "cell_type": "code",
      "metadata": {
        "colab": {
          "base_uri": "https://localhost:8080/"
        },
        "id": "sjZQQwEJ_3PL",
        "outputId": "216406ba-b2b8-4df1-8e4c-16f46f34c787"
      },
      "source": [
        "from sklearn.ensemble import RandomForestClassifier\n",
        "clf = RandomForestClassifier(n_estimators=20)\n",
        "random_forest_model = clf.fit(X_train,y_train)\n",
        "random_forest_model_predict = random_forest_model.predict(X_test)\n",
        "random_forest_report = classification_report(y_test,random_forest_model_predict)\n",
        "print(random_forest_report)"
      ],
      "execution_count": null,
      "outputs": [
        {
          "output_type": "stream",
          "name": "stdout",
          "text": [
            "              precision    recall  f1-score   support\n",
            "\n",
            "           0       0.81      0.85      0.83       102\n",
            "           1       0.98      0.86      0.91       106\n",
            "           2       0.99      0.87      0.93        78\n",
            "           3       0.76      0.93      0.83       125\n",
            "           4       0.96      0.86      0.90       149\n",
            "           5       1.00      0.84      0.91        51\n",
            "           6       0.88      0.92      0.90       265\n",
            "\n",
            "    accuracy                           0.89       876\n",
            "   macro avg       0.91      0.88      0.89       876\n",
            "weighted avg       0.90      0.89      0.89       876\n",
            "\n"
          ]
        }
      ]
    },
    {
      "cell_type": "code",
      "metadata": {
        "id": "6ZzJU2KjFWgR"
      },
      "source": [
        "from sklearn.linear_model import LogisticRegression"
      ],
      "execution_count": null,
      "outputs": []
    },
    {
      "cell_type": "code",
      "metadata": {
        "colab": {
          "base_uri": "https://localhost:8080/"
        },
        "id": "TQE39sPMFRwd",
        "outputId": "652e8074-7f8e-4b84-a1b8-167732cc727c"
      },
      "source": [
        "logistic_reg_model = LogisticRegression(n_jobs = -1, penalty='l2', multi_class='multinomial',class_weight = 'balanced',verbose=1).fit(X_train,y_train)\n",
        "lr_model_predict = logistic_reg_model.predict(X_test)\n",
        "lr_model_report = classification_report(y_test, lr_model_predict)\n",
        "print(lr_model_report)"
      ],
      "execution_count": null,
      "outputs": [
        {
          "output_type": "stream",
          "name": "stderr",
          "text": [
            "[Parallel(n_jobs=-1)]: Using backend LokyBackend with 2 concurrent workers.\n"
          ]
        },
        {
          "output_type": "stream",
          "name": "stdout",
          "text": [
            "              precision    recall  f1-score   support\n",
            "\n",
            "           0       0.99      0.92      0.95       102\n",
            "           1       1.00      0.93      0.97       106\n",
            "           2       1.00      0.94      0.97        78\n",
            "           3       0.95      0.94      0.94       125\n",
            "           4       0.99      0.91      0.95       149\n",
            "           5       1.00      0.90      0.95        51\n",
            "           6       0.87      1.00      0.93       265\n",
            "\n",
            "    accuracy                           0.95       876\n",
            "   macro avg       0.97      0.93      0.95       876\n",
            "weighted avg       0.95      0.95      0.95       876\n",
            "\n"
          ]
        },
        {
          "output_type": "stream",
          "name": "stderr",
          "text": [
            "[Parallel(n_jobs=-1)]: Done   1 out of   1 | elapsed:   19.0s finished\n"
          ]
        }
      ]
    },
    {
      "cell_type": "markdown",
      "metadata": {
        "id": "tlYY_Q1TAnDr"
      },
      "source": [
        "Conclusion: \n",
        "\n",
        "Naive Bayes: 98% accuracy\n",
        "\n",
        "Decision Tree: 82%\n",
        "\n",
        "Random Forest: 89%\n",
        "\n",
        "Logistic Regression: 95%"
      ]
    },
    {
      "cell_type": "code",
      "metadata": {
        "colab": {
          "base_uri": "https://localhost:8080/"
        },
        "id": "T_U4IgZuF1nM",
        "outputId": "77a726aa-b5d1-4749-fe79-c9785ac2d2f1"
      },
      "source": [
        "print(\"End of Project!!\")"
      ],
      "execution_count": null,
      "outputs": [
        {
          "output_type": "stream",
          "name": "stdout",
          "text": [
            "End of Project!!\n"
          ]
        }
      ]
    }
  ]
}